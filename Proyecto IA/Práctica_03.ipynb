{
 "cells": [
  {
   "cell_type": "markdown",
   "metadata": {},
   "source": [
    "#  Rompecabezas de las Torres de Hanoi"
   ]
  },
  {
   "cell_type": "markdown",
   "metadata": {},
   "source": [
    "El rompecabezas de las Torres de Hanoi consta de tres varillas verticales y un número de discos, que determinará la complejidad del problema, todos de distinto tamaño y apilados de mayor a menor radio en la primera varilla.\n",
    "\n",
    "El objetivo del juego es pasar todos los discos de la primera a la última varilla, siguiendo tres simples reglas:\n",
    "1. Se desplaza un disco cada vez.\n",
    "2. Solo se pueden desplazar los discos de arriba de las varillas.\n",
    "3. No se puede colocar un disco sobre otro más pequeño."
   ]
  },
  {
   "cell_type": "markdown",
   "metadata": {},
   "source": [
    "En esta primera parte de la práctica se mostrará cómo implementar el rompecabezas de las Torres de Hanoi como un problema de espacio de estados y se aplicarán distintos algoritmos de búsqueda para resolverlo."
   ]
  },
  {
   "cell_type": "markdown",
   "metadata": {},
   "source": [
    "El siguiente módulo será de utilidad para copiar un estado en otro estado igual, pero completamente nuevo e independiente."
   ]
  },
  {
   "cell_type": "markdown",
   "metadata": {},
   "source": [
    "Para implementar un problema de espacio de estados se pueden hacer uso de las clases de objetos proporcionadas por el módulo `problema_espacio_estados`."
   ]
  },
  {
   "cell_type": "code",
   "execution_count": null,
   "metadata": {
    "collapsed": true
   },
   "outputs": [],
   "source": [
    "import problema_espacio_estados as probee"
   ]
  },
  {
   "cell_type": "code",
   "execution_count": null,
   "metadata": {
    "collapsed": true
   },
   "outputs": [],
   "source": [
    "import búsqueda_espacio_estados as búsqee"
   ]
  },
  {
   "cell_type": "code",
   "execution_count": null,
   "metadata": {
    "collapsed": true
   },
   "outputs": [],
   "source": [
    "import copy"
   ]
  },
  {
   "cell_type": "markdown",
   "metadata": {},
   "source": [
    "Los algoritmos de búsqueda están implementados en el módulo `búsqueda_espacio_estados`."
   ]
  },
  {
   "cell_type": "markdown",
   "metadata": {},
   "source": [
    "El primer paso es decidir cómo se van a implementar los estados. Para el rompecabezas de las Torres de Hanoi una opción es hacerlo mediante una lista que guarde para cada varilla el conjunto de los discos que hay en ella."
   ]
  },
  {
   "cell_type": "code",
   "execution_count": null,
   "metadata": {
    "collapsed": true
   },
   "outputs": [],
   "source": [
    "estado1 = [{2}, set(), {1}]\n",
    "estado2 = [{1}, set(), {2}]"
   ]
  },
  {
   "cell_type": "markdown",
   "metadata": {},
   "source": [
    "A continuación hay que implementar las acciones como instancias de la clase `Acción`, proporcionando un nombre, una función de aplicabilidad y una función de aplicación para cada acción. Por ejemplo, la acción `De 1 a 3` que mueve un disco de la primera a la tercera varilla se puede implementar de la siguiente manera:"
   ]
  },
  {
   "cell_type": "code",
   "execution_count": null,
   "metadata": {
    "collapsed": true
   },
   "outputs": [],
   "source": [
    "def está_vacía(estado, varilla):\n",
    "    return not bool(estado[varilla - 1])\n",
    "\n",
    "def disco_superior(estado, varilla):\n",
    "    return min(estado[varilla - 1])\n",
    "\n",
    "def aplicabilidad(estado):\n",
    "    return (not está_vacía(estado, 1) and\n",
    "            (está_vacía(estado, 3) or\n",
    "             disco_superior(estado, 1) < disco_superior(estado, 3)))\n",
    "\n",
    "def quitar_disco(estado, varilla):\n",
    "    disco = disco_superior(estado, varilla)\n",
    "    estado[varilla - 1].remove(disco)\n",
    "    return disco\n",
    "\n",
    "def poner_disco(estado, varilla, disco):\n",
    "    estado[varilla - 1].add(disco)\n",
    "\n",
    "def aplicación(estado):\n",
    "    nuevo_estado = copy.deepcopy(estado)\n",
    "    disco = quitar_disco(nuevo_estado, 1)\n",
    "    poner_disco(nuevo_estado, 3, disco)\n",
    "    return nuevo_estado\n",
    "\n",
    "a13 = probee.Acción('De 1 a 3', aplicabilidad, aplicación)"
   ]
  },
  {
   "cell_type": "code",
   "execution_count": null,
   "metadata": {},
   "outputs": [],
   "source": [
    "a13.es_aplicable(estado1)"
   ]
  },
  {
   "cell_type": "code",
   "execution_count": null,
   "metadata": {},
   "outputs": [],
   "source": [
    "a13.es_aplicable(estado2)"
   ]
  },
  {
   "cell_type": "code",
   "execution_count": null,
   "metadata": {},
   "outputs": [],
   "source": [
    "a13.aplicar(estado2)"
   ]
  },
  {
   "cell_type": "markdown",
   "metadata": {},
   "source": [
    "Normalmente las acciones se pueden agrupar en distintos tipos, cada uno de los cuales puede ser implementado de manera abstracta mediante una clase que herede de la clase `Acción`."
   ]
  },
  {
   "cell_type": "markdown",
   "metadata": {},
   "source": [
    "Para el rompecabezas de las Torres de Hanoi, todas las acciones son del tipo mover un disco de una varilla a otra. En este caso, consideramos que el coste de mover un disco es siempre 1, el valor por defecto. En caso de que fuera distinto, al crear una instancia de la clase `Acción` se puede proporcionar una función `coste`, o bien al heredar de la clase `Acción` se puede redefinir el método `coste_de_aplicar`."
   ]
  },
  {
   "cell_type": "code",
   "execution_count": null,
   "metadata": {
    "collapsed": true
   },
   "outputs": [],
   "source": [
    "class MoverDisco(probee.Acción):\n",
    "    def __init__(self, i, j):\n",
    "        nombre = 'De {} a {}'.format(i, j)\n",
    "        super().__init__(nombre)\n",
    "        self.varilla_de = i\n",
    "        self.varilla_a = j\n",
    "    \n",
    "    def está_vacía(self, estado, varilla):\n",
    "        return not bool(estado[varilla - 1])\n",
    "    \n",
    "    def disco_superior(self, estado, varilla):\n",
    "        return min(estado[varilla - 1])\n",
    "    \n",
    "    def es_aplicable(self, estado):\n",
    "        return (not self.está_vacía(estado, self.varilla_de) and\n",
    "                (self.está_vacía(estado, self.varilla_a) or\n",
    "                 self.disco_superior(estado, self.varilla_de) < \n",
    "                 self.disco_superior(estado, self.varilla_a)))\n",
    "    \n",
    "    def quitar_disco(self, estado, varilla):\n",
    "        disco = self.disco_superior(estado, varilla)\n",
    "        estado[varilla - 1].remove(disco)\n",
    "        return disco\n",
    "\n",
    "    def poner_disco(self, estado, varilla, disco):\n",
    "        estado[varilla - 1].add(disco)\n",
    "    \n",
    "    def aplicar(self, estado):\n",
    "        nuevo_estado = copy.deepcopy(estado)\n",
    "        disco = self.quitar_disco(nuevo_estado, self.varilla_de)\n",
    "        self.poner_disco(nuevo_estado, self.varilla_a, disco)\n",
    "        return nuevo_estado"
   ]
  },
  {
   "cell_type": "markdown",
   "metadata": {},
   "source": [
    "Finalmente, un problema de espacio de estados se implementa como una instancia de la clase `ProblemaEspacioEstados`, proporcionando una lista de acciones, un estado inicial y una lista de estados finales."
   ]
  },
  {
   "cell_type": "code",
   "execution_count": null,
   "metadata": {
    "collapsed": true
   },
   "outputs": [],
   "source": [
    "acciones = [MoverDisco(i, j) for i in range(1, 4) for j in range(1, 4) if i != j]\n",
    "estado_inicial = [{1, 2}, set(), set()]\n",
    "estado_final = [set(), set(), {1, 2}]\n",
    "Torres_Hanoi_2_discos = probee.ProblemaEspacioEstados(\n",
    "    acciones, estado_inicial, [estado_final])"
   ]
  },
  {
   "cell_type": "code",
   "execution_count": null,
   "metadata": {},
   "outputs": [],
   "source": [
    "Torres_Hanoi_2_discos.es_estado_final(estado1)"
   ]
  },
  {
   "cell_type": "code",
   "execution_count": null,
   "metadata": {},
   "outputs": [],
   "source": [
    "Torres_Hanoi_2_discos.es_estado_final(a13.aplicar(estado2))"
   ]
  },
  {
   "cell_type": "code",
   "execution_count": null,
   "metadata": {},
   "outputs": [],
   "source": [
    "for acción in Torres_Hanoi_2_discos.acciones_aplicables(estado1):\n",
    "    print(acción.nombre)"
   ]
  },
  {
   "cell_type": "code",
   "execution_count": null,
   "metadata": {},
   "outputs": [],
   "source": [
    "for acción in Torres_Hanoi_2_discos.acciones_aplicables(estado1):\n",
    "    print(acción.aplicar(estado1))"
   ]
  },
  {
   "cell_type": "markdown",
   "metadata": {},
   "source": [
    "El procedimiento para realizar una búsqueda en un espacio de estados consiste en crear una instancia de una clase que implemente un algoritmo de búsqueda, proporcionando los argumentos necesarios, y aplicar el método buscar de esa instancia al problema de espacio de estados.\n",
    "\n",
    "Las clases correspondientes a los algoritmos de búsqueda más comunes son las siguientes:\n",
    "* `BúsquedaEnAnchura`\n",
    "* `BúsquedaEnProfundidad`\n",
    "* `BúsquedaPrimeroElMejor`: hay que proporcionar la función de evaluación heurística `f`.\n",
    "* `BúsquedaÓptima`\n",
    "* `BúsquedaAEstrella`: hay que proporcionar la función de estimación del coste `h`.\n",
    "\n",
    "Adicionalmente, todas las clases anteriores admiten establecer el argumento `detallado` a `True`, para que al realizar una búsqueda se imprima por pantalla su traza."
   ]
  },
  {
   "cell_type": "code",
   "execution_count": null,
   "metadata": {
    "collapsed": true
   },
   "outputs": [],
   "source": [
    "b_anchura = búsqee.BúsquedaEnAnchura(detallado=True)"
   ]
  },
  {
   "cell_type": "code",
   "execution_count": null,
   "metadata": {},
   "outputs": [],
   "source": [
    "b_anchura.buscar(Torres_Hanoi_2_discos)"
   ]
  },
  {
   "cell_type": "code",
   "execution_count": null,
   "metadata": {
    "collapsed": true
   },
   "outputs": [],
   "source": [
    "b_profundidad = búsqee.BúsquedaEnProfundidad(detallado=True)"
   ]
  },
  {
   "cell_type": "code",
   "execution_count": null,
   "metadata": {},
   "outputs": [],
   "source": [
    "b_profundidad.buscar(Torres_Hanoi_2_discos)"
   ]
  },
  {
   "cell_type": "markdown",
   "metadata": {},
   "source": [
    "Podemos parametrizar la implementación del rompecabezas de las Torres de Hanoi para que dependa del número `n` de discos. Para ello basta implementar una clase que herede de la clase `ProblemaEspacioEstados`. Aprovechamos también para, en lugar de enumerar los estados finales, realizar una descripción declarativa de los mismos redefiniendo el método `es_estado_final`."
   ]
  },
  {
   "cell_type": "code",
   "execution_count": null,
   "metadata": {
    "collapsed": true
   },
   "outputs": [],
   "source": [
    "class TorresHanoi(probee.ProblemaEspacioEstados):\n",
    "    def __init__(self, n):\n",
    "        acciones = [MoverDisco(i, j) for i in range(1, 4) for j in range(1, 4) if i != j]\n",
    "        estado_inicial = [set(range(1, n + 1)), set(), set()]\n",
    "        super().__init__(acciones, estado_inicial)\n",
    "        self.n = n\n",
    "    \n",
    "    def es_estado_final(self, estado):\n",
    "        return estado[2] == set(range(1, self.n + 1))"
   ]
  },
  {
   "cell_type": "markdown",
   "metadata": {},
   "source": [
    "Con un número de discos igual a 8, el coste en tiempo de los algoritmos de búsqueda en anchura y profundidad comienza a no ser asumible, por lo que debemos pasar a realizar una búsqueda informada."
   ]
  },
  {
   "cell_type": "code",
   "execution_count": null,
   "metadata": {
    "collapsed": true
   },
   "outputs": [],
   "source": [
    "Torres_Hanoi_8_discos = TorresHanoi(8)"
   ]
  },
  {
   "cell_type": "code",
   "execution_count": null,
   "metadata": {
    "collapsed": true
   },
   "outputs": [],
   "source": [
    "b_óptima = búsqee.BúsquedaÓptima()"
   ]
  },
  {
   "cell_type": "markdown",
   "metadata": {},
   "source": [
    "Para poder aplicar la búsqueda $A^*$, es un requisito necesario definir una función que para cada nodo estime el coste de una solución óptima desde el estado de ese nodo (que en nuestra implementación está guardado en el atributo `estado` de la clase que implementa a estos últimos)."
   ]
  },
  {
   "cell_type": "code",
   "execution_count": null,
   "metadata": {
    "collapsed": true
   },
   "outputs": [],
   "source": [
    "def h(nodo):\n",
    "    estado = nodo.estado\n",
    "    return len(estado[0]) + len(estado[1])\n",
    "b_a_estrella = búsqee.BúsquedaAEstrella(h)"
   ]
  },
  {
   "cell_type": "markdown",
   "metadata": {},
   "source": [
    "`timeit` es una «función mágica» de *Jupyter* que proporciona el promedio de tiempo que tarda un bucle que se repite un cierto número de pasos, ejecutando en cada paso el código de la celda un cierto número de veces (en los ejemplos de abajo se ha establecido un único paso del bucle y una única ejecución del código en cada paso)."
   ]
  },
  {
   "cell_type": "code",
   "execution_count": null,
   "metadata": {
    "collapsed": true
   },
   "outputs": [],
   "source": [
    "%%timeit -n1 -r1\n",
    "\n",
    "b_óptima.buscar(Torres_Hanoi_8_discos)"
   ]
  },
  {
   "cell_type": "code",
   "execution_count": null,
   "metadata": {
    "collapsed": true
   },
   "outputs": [],
   "source": [
    "%%timeit -n1 -r1\n",
    "\n",
    "b_a_estrella.buscar(Torres_Hanoi_8_discos)"
   ]
  },
  {
   "cell_type": "markdown",
   "metadata": {},
   "source": [
    "#  Búsqueda de caminos en juegos de ordenador"
   ]
  },
  {
   "cell_type": "markdown",
   "metadata": {},
   "source": [
    "Una de las aplicaciones de los problemas de espacio de estados la encontramos en los juegos de ordenador, en los que ciertos elementos deben desplazarse entre dos puntos del mapa de juego. La idea es que los estados representen la posición del elemento y las acciones los posibles movimientos (cuatro si solo se permite en vertical u horizontal, ocho si también se permite en diagonal, etcétera). Se aplica entonces un algoritmo de búsqueda en espacio de estados, generalmente $A*$, para encontrar el *mejor* (sea lo que sea que signifique eso) camino entre una posición inicial y una final."
   ]
  },
  {
   "cell_type": "markdown",
   "metadata": {},
   "source": [
    "La siguiente clase `Mapa` representa un mapa rectangular en el que las celdas puedan ser de distinto tipo."
   ]
  },
  {
   "cell_type": "code",
   "execution_count": null,
   "metadata": {
    "collapsed": true
   },
   "outputs": [],
   "source": [
    "class Mapa:\n",
    "    def __init__(self, celdas):\n",
    "        self.celdas = celdas\n",
    "    \n",
    "    def tamaño_hor(self):\n",
    "        return len(self.celdas[0])\n",
    "    \n",
    "    def tamaño_ver(self):\n",
    "        return len(self.celdas)\n",
    "    \n",
    "    def tipo_celda(self, f, c):\n",
    "        return self.celdas[f][c]"
   ]
  },
  {
   "cell_type": "markdown",
   "metadata": {},
   "source": [
    "En la siguiente imagen las celdas marrón claro representan zonas de llanura, las verdes zonas\n",
    "boscosas, las marrón oscuro zonas montañosas y las azules zonas con agua:\n",
    "\n",
    "<img src=\"mapa.png\"/>\n",
    "\n",
    "Este mapa se puede implementar con la siguiente instancia de la clase `Mapa`:"
   ]
  },
  {
   "cell_type": "code",
   "execution_count": null,
   "metadata": {
    "collapsed": true
   },
   "outputs": [],
   "source": [
    "mapa_ejemplo = Mapa([[1, 1, 1, 1, 1, 1, 1, 0, 0, 1],\n",
    "                     [1, 1, 1, 1, 2, 2, 2, 0, 0, 1],\n",
    "                     [1, 1, 1, 2, 2, 4, 2, 2, 1, 1],\n",
    "                     [1, 1, 1, 2, 4, 4, 4, 2, 1, 1],\n",
    "                     [1, 1, 1, 2, 2, 4, 0, 0, 0, 0],\n",
    "                     [1, 1, 1, 1, 2, 2, 0, 0, 0, 0]])"
   ]
  },
  {
   "cell_type": "markdown",
   "metadata": {},
   "source": [
    "**Ejercicio 1**: implementar como un problema de espacio de estados el problema de encontrar en el mapa anterior el camino de menor coste entre la posición `A` y la posición `B`. El coste de salir de una celda de llanura es 1, de una celda de bosque es 2 y de una celda de montaña es 4. El camino no puede pasar por ninguna celda de agua."
   ]
  },
  {
   "cell_type": "code",
   "execution_count": null,
   "metadata": {
    "collapsed": true
   },
   "outputs": [],
   "source": []
  },
  {
   "cell_type": "markdown",
   "metadata": {},
   "source": [
    "**Ejercicio 2**: aplicar el algoritmo $A^*$ para encontrar una solución del problema anterior."
   ]
  },
  {
   "cell_type": "code",
   "execution_count": null,
   "metadata": {
    "collapsed": true
   },
   "outputs": [],
   "source": []
  },
  {
   "cell_type": "markdown",
   "metadata": {},
   "source": [
    "Supongamos que además de ir desde la posición `A` hasta la posición `B`, una unidad del juego tiene que pasar antes por otros puntos de encuentro especificados. Este problema puede resolverse buscando y concatenando los caminos intermedios entre los puntos de encuentro (incluyendo también los caminos desde el origen al primer punto de encuentro y desde el último punto de encuentro al destino final)."
   ]
  },
  {
   "cell_type": "markdown",
   "metadata": {},
   "source": [
    "**Ejercicio 3**: definir una función `búsqueda_camino_con_puntos` que, dada una lista de puntos del camino (*waypoints*) devuelva el camino de menor coste desde la posición `A` hasta la posición `B`, pasando en orden por esos puntos del camino. Usar esta función para encontrar un camino de coste mínimo desde `A` hasta `B`, pasando por las posiciones `(1, 6)` y `(5, 5)`, en ese orden."
   ]
  },
  {
   "cell_type": "code",
   "execution_count": null,
   "metadata": {
    "collapsed": true
   },
   "outputs": [],
   "source": []
  }
 ],
 "metadata": {
  "anaconda-cloud": {},
  "kernelspec": {
   "display_name": "Python 3",
   "language": "python",
   "name": "python3"
  },
  "language_info": {
   "codemirror_mode": {
    "name": "ipython",
    "version": 3
   },
   "file_extension": ".py",
   "mimetype": "text/x-python",
   "name": "python",
   "nbconvert_exporter": "python",
   "pygments_lexer": "ipython3",
   "version": "3.6.3"
  }
 },
 "nbformat": 4,
 "nbformat_minor": 1
}
