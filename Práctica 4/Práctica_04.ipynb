{
 "cells": [
  {
   "cell_type": "markdown",
   "metadata": {},
   "source": [
    "Para implementar un problema de planificación se puede hacer uso de las clases de objetos proporcionadas por el módulo `problema_planificación` (**Nota**: es importante tener en cuenta que este módulo asume que todos los símbolos de objetos son cadenas)."
   ]
  },
  {
   "cell_type": "code",
   "execution_count": null,
   "metadata": {
    "collapsed": true
   },
   "outputs": [],
   "source": [
    "import problema_planificación_pddl as probpl"
   ]
  },
  {
   "cell_type": "markdown",
   "metadata": {},
   "source": [
    "En la primera parte de la práctica se mostrará cómo implementar unas instancias de los problemas de la rueda pinchada y del mundo de los bloques cuyo planteamiento general se puede encontrar en las transparencias del tema."
   ]
  },
  {
   "cell_type": "markdown",
   "metadata": {},
   "source": [
    "# Problema de la rueda pinchada"
   ]
  },
  {
   "cell_type": "markdown",
   "metadata": {},
   "source": [
    "El problema de la rueda pinchada consiste en determinar los pasos a realizar para cambiar una rueda pinchada por una rueda de repuesto que se encuentra en el maletero, guardando finalmente la rueda pinchada en el maletero, para poder continuar el viaje."
   ]
  },
  {
   "cell_type": "markdown",
   "metadata": {},
   "source": [
    "En primer lugar declaramos los predicados que vamos a utilizar para representar el problema, indicando los conjuntos sobre los cuales se van a construir dichos predicados."
   ]
  },
  {
   "cell_type": "code",
   "execution_count": null,
   "metadata": {
    "collapsed": true
   },
   "outputs": [],
   "source": [
    "en = probpl.Predicado({'rueda-pinchada','rueda-repuesto'},{'eje','maletero','suelo'})"
   ]
  },
  {
   "cell_type": "markdown",
   "metadata": {},
   "source": [
    "Un estado es una instancia de la clase `Estado`, creada a partir de una serie de instancias de los predicados declarados previamente."
   ]
  },
  {
   "cell_type": "code",
   "execution_count": null,
   "metadata": {},
   "outputs": [],
   "source": [
    "estado_inicial_rueda = probpl.Estado(en('rueda-pinchada','eje'),en('rueda-repuesto','maletero'))\n",
    "print(estado_inicial_rueda)"
   ]
  },
  {
   "cell_type": "markdown",
   "metadata": {},
   "source": [
    "Las acciones se implementan como instancias de la clase `AcciónPlanificación`. Los argumentos que se pueden proporcionar son los siguientes:\n",
    "* `nombre`: una cadena que representa la acción. Este argumento es obligatorio.\n",
    "* `precondicionesP`: una lista de instancias de predicados que forman las precondiciones positivas. Este argumento es opcional.\n",
    "* `precondicionesN`: una lista de instancias de predicados que forman las precondiciones negativas. Este argumento es opcional.\n",
    "* `efectosP`: una lista de instancias de predicados que forman los efectos positivos. Este argumento es opcional.\n",
    "* `efectosN`: una lista de instancias de predicados que forman los efectos negativos. Este argumento es opcional.\n",
    "* `coste`: un número entero positivo (esta implementación asume que el coste de aplicar la acción es siempre el mismo, independientemente del estado). Este argumento es opcional, en cuyo caso se toma coste 1.\n",
    "\n",
    "En el caso de una sola precondición o efecto no es necesario proporcionarlos en una lista."
   ]
  },
  {
   "cell_type": "code",
   "execution_count": null,
   "metadata": {
    "collapsed": true
   },
   "outputs": [],
   "source": [
    "# Sacar la rueda de repuesto del maletero\n",
    "sacar = probpl.AcciónPlanificación(\n",
    "    nombre = 'sacar_repuesto',\n",
    "    precondicionesP = en('rueda-repuesto','maletero'),\n",
    "    efectosP = en('rueda-repuesto','suelo'),\n",
    "    efectosN = en('rueda-repuesto','maletero'))\n",
    "\n",
    "# Quitar la rueda pinchada del eje\n",
    "quitar = probpl.AcciónPlanificación(\n",
    "    nombre = 'quitar_pinchada',\n",
    "    precondicionesP = [en('rueda-pinchada','eje')],\n",
    "    efectosP = [en('rueda-pinchada','suelo')],\n",
    "    efectosN = [en('rueda-pinchada','eje')])\n",
    "\n",
    "# Colocar la rueda de repuesto en el eje\n",
    "poner = probpl.AcciónPlanificación(\n",
    "    nombre = 'poner_repuesto',\n",
    "    precondicionesP = en('rueda-repuesto','suelo'),\n",
    "    precondicionesN = en('rueda-pinchada','eje'),\n",
    "    efectosP = en('rueda-repuesto','eje'),\n",
    "    efectosN = en('rueda-repuesto','suelo'))\n",
    "\n",
    "# Guardar la rueda pinchada en el maletero\n",
    "guardar = probpl.AcciónPlanificación(\n",
    "    nombre = 'guardar_pinchada',\n",
    "    precondicionesP = [en('rueda-pinchada','suelo')],\n",
    "    precondicionesN = [en('rueda-repuesto','maletero')],\n",
    "    efectosP = [en('rueda-pinchada','maletero')],\n",
    "    efectosN = [en('rueda-pinchada','suelo')])"
   ]
  },
  {
   "cell_type": "markdown",
   "metadata": {},
   "source": [
    "Una vez creadas las acciones, la función `print` nos muestra su estructura."
   ]
  },
  {
   "cell_type": "code",
   "execution_count": null,
   "metadata": {},
   "outputs": [],
   "source": [
    "print(quitar)"
   ]
  },
  {
   "cell_type": "code",
   "execution_count": null,
   "metadata": {},
   "outputs": [],
   "source": [
    "print(guardar)"
   ]
  },
  {
   "cell_type": "markdown",
   "metadata": {},
   "source": [
    "Finalmente, un problema de planificación será una instancia de la clase `ProblemaPlanificación` construida a partir de los siguientes argumentos:\n",
    "* `operadores`: la lista de acciones del problema.\n",
    "* `estado_inicial`: el estado inicial del problema.\n",
    "* `objetivosP`: una lista de instancias de predicados que forman los objetivos positivos.\n",
    "* `objetivosN`: una lista de instancias de predicados que forman los objetivos negativos.\n",
    "\n",
    "En el caso de un solo operador, un solo objetivo positivo o un solo objetivo negativo, no es necesario proporcionarlos en una lista."
   ]
  },
  {
   "cell_type": "code",
   "execution_count": null,
   "metadata": {
    "collapsed": true
   },
   "outputs": [],
   "source": [
    "problema_rueda_pinchada = probpl.ProblemaPlanificación(\n",
    "    operadores=[quitar, guardar, sacar, poner],\n",
    "    estado_inicial=probpl.Estado(en('rueda-pinchada','eje'),\n",
    "                                 en('rueda-repuesto','maletero')),\n",
    "    objetivosP=[en('rueda-pinchada','maletero'), \n",
    "                en('rueda-repuesto','eje')])"
   ]
  },
  {
   "cell_type": "markdown",
   "metadata": {},
   "source": [
    "Una vez implementado el problema de planificación, para buscar un plan solución basta aplicar algún algoritmo de búsqueda en espacio de estados."
   ]
  },
  {
   "cell_type": "code",
   "execution_count": null,
   "metadata": {
    "collapsed": true
   },
   "outputs": [],
   "source": [
    "import búsqueda_espacio_estados as búsqee"
   ]
  },
  {
   "cell_type": "code",
   "execution_count": null,
   "metadata": {},
   "outputs": [],
   "source": [
    "búsqueda_profundidad = búsqee.BúsquedaEnProfundidad()\n",
    "\n",
    "búsqueda_profundidad.buscar(problema_rueda_pinchada)"
   ]
  },
  {
   "cell_type": "code",
   "execution_count": null,
   "metadata": {},
   "outputs": [],
   "source": [
    "búsqueda_anchura = búsqee.BúsquedaEnAnchura()\n",
    "\n",
    "búsqueda_anchura.buscar(problema_rueda_pinchada)"
   ]
  },
  {
   "cell_type": "markdown",
   "metadata": {},
   "source": [
    "# Problema del mundo de los bloques"
   ]
  },
  {
   "cell_type": "markdown",
   "metadata": {},
   "source": [
    "En el problema del mundo de los bloques se dispone de un conjunto de bloques cúbicos dispuestos sobre una mesa. Los bloques se pueden apilar, pero cada bloque solo se puede colocar sobre un único bloque. Un brazo robótico puede coger un bloque y moverlo a otra posición, ya sea sobre la mesa o sobre otro bloque. El brazo robótico solo puede coger un bloque cada vez. El objetivo es construir una determinada pila de bloques."
   ]
  },
  {
   "cell_type": "markdown",
   "metadata": {},
   "source": [
    "En primer lugar declaramos los predicados que vamos a utilizar para representar el problema, indicando los conjuntos sobre los cuales se van a construir dichos predicados. Si un predicado no va a tener argumentos, entonces se debe indicar que se va a construir sobre el conjunto vacío."
   ]
  },
  {
   "cell_type": "code",
   "execution_count": null,
   "metadata": {
    "collapsed": true
   },
   "outputs": [],
   "source": [
    "bloques = {'A','B','C'}\n",
    "despejado = probpl.Predicado(bloques)\n",
    "brazolibre = probpl.Predicado({})\n",
    "sobrelamesa = probpl.Predicado(bloques)\n",
    "sobre = probpl.Predicado(bloques,bloques)\n",
    "agarrado = probpl.Predicado(bloques)"
   ]
  },
  {
   "cell_type": "markdown",
   "metadata": {},
   "source": [
    "Definimos un estado inicial para el problema de los bloques en el que el bloque $A$ está situado sobre la mesa y no tiene nada encima; el bloque $B$ está situado sobre la mesa y tiene encima el bloque $C$, que no tiene nada más encima; y el brazo robótico está libre."
   ]
  },
  {
   "cell_type": "code",
   "execution_count": null,
   "metadata": {
    "collapsed": true
   },
   "outputs": [],
   "source": [
    "estado_inicial_bloques = probpl.Estado(\n",
    "    sobrelamesa('A'),despejado('A'),\n",
    "    sobrelamesa('B'),sobre('C','B'),despejado('C'),\n",
    "    brazolibre())"
   ]
  },
  {
   "cell_type": "markdown",
   "metadata": {},
   "source": [
    "Se pueden establecer costes distintos para las acciones obtenidas a partir de un mismo esquema. Para ello basta crear una instancia de la clase `CosteEsquema` a partir de una función que establezca ese coste en función de ciertos parámetros. Por ejemplo, supongamos que el coste de mover cada uno de los tres bloques es distinto, ya que tienen pesos distintos."
   ]
  },
  {
   "cell_type": "code",
   "execution_count": null,
   "metadata": {
    "collapsed": true
   },
   "outputs": [],
   "source": [
    "coste_bloque = probpl.CosteEsquema(lambda b: {'A': 1, 'B': 2, 'C': 3}[b])"
   ]
  },
  {
   "cell_type": "markdown",
   "metadata": {},
   "source": [
    "Los esquemas de acciones se implementan como instancias de la clase `EsquemaPlanificación`. Los posibles argumentos que se pueden proporcionar son los siguientes:\n",
    "* `nombre`: una cadena de la forma $acc(z_1, \\dotsc, z_k)$, donde si $z_i$ representa una variable, entonces debe escribirse entre llaves. Este argumento es obligatorio.\n",
    "* `precondicionesP`: una lista de instancias de predicados que forman las precondiciones positivas. Este argumento es opcional.\n",
    "* `precondicionesN`: una lista de instancias de predicados que forman las precondiciones negativas. Este argumento es opcional.\n",
    "* `efectosP`: una lista de instancias de predicados que forman los efectos positivos. Este argumento es opcional.\n",
    "* `efectosN`: una lista de instancias de predicados que forman los efectos negativos. Este argumento es opcional.\n",
    "* `coste`: una instancia de la clase `costeEsquema` que establece el coste de una acción a partir de los valores de las variables $z_i$. Este argumento es opcional, en cuyo caso se toma coste 1.\n",
    "* `dominio`: un conjunto de tuplas del mismo tamaño que el número de variables. Indica el conjunto de situaciones para las tiene sentido instanciar el esquema de acción.\n",
    "* `variables`: un diccionario que asocia a cada nombre de variable $z_i$ el conjunto de valores que puede tomar.\n",
    "\n",
    "Al menos uno de los argumentos `dominio` o `variables` debe aparecer. En caso de incluir los dos, sólo se tiene en cuenta el argumento `dominio`.\n",
    "\n",
    "Las instancias de los predicados en `precondicionesP`, `precondicionesN`, `efectosP` y `efectosN`, pueden hacer referencia a las variables $z_i$, que deben escribirse entre llaves. En el caso de una sola precondición positiva o negativa, o un solo efecto positivo o negativo no es necesario proporcionarlos en una lista."
   ]
  },
  {
   "cell_type": "code",
   "execution_count": null,
   "metadata": {
    "collapsed": true
   },
   "outputs": [],
   "source": [
    "# Colocar un bloque sobre otro\n",
    "apilar = probpl.EsquemaPlanificación('apilar({x},{y})',\n",
    "    precondicionesP = [despejado('{y}'),agarrado('{x}')],\n",
    "    efectosN = [despejado('{y}'),agarrado('{x}')],\n",
    "    efectosP = [despejado('{x}'),brazolibre(),sobre('{x}','{y}')],\n",
    "    coste = coste_bloque('{x}'),\n",
    "    dominio = {('A','B'),('A','C'),('B','A'),('B','C'),('C','A'),('C','B')},\n",
    "    variables = {'x':bloques,'y':bloques})\n",
    "\n",
    "# Quitar un bloque que estaba sobre otro\n",
    "desapilar = probpl.EsquemaPlanificación('desapilar({x},{y})',\n",
    "    precondicionesP = [sobre('{x}','{y}'),despejado('{x}'),brazolibre()],\n",
    "    efectosN = [sobre('{x}','{y}'),despejado('{x}'),brazolibre()],\n",
    "    efectosP = [agarrado('{x}'),despejado('{y}')],\n",
    "    coste = coste_bloque('{x}'),\n",
    "    dominio = {('A','B'),('A','C'),('B','A'),('B','C'),('C','A'),('C','B')})\n",
    "\n",
    "# Agarrar un bloque de la mesa con el robot\n",
    "agarrar = probpl.EsquemaPlanificación('agarrar({x})',\n",
    "    precondicionesP = [despejado('{x}'),sobrelamesa('{x}'),brazolibre()],\n",
    "    efectosN = [despejado('{x}'),sobrelamesa('{x}'),brazolibre()],\n",
    "    efectosP = [agarrado('{x}')],\n",
    "    coste = coste_bloque('{x}'),\n",
    "    dominio = bloques)\n",
    "\n",
    "# Bajar un bloque hasta la mesa\n",
    "bajar = probpl.EsquemaPlanificación('bajar({x})',\n",
    "    precondicionesP = [agarrado('{x}')],\n",
    "    efectosN = [agarrado('{x}')],\n",
    "    efectosP = [despejado('{x}'),sobrelamesa('{x}'),brazolibre()],\n",
    "    coste = coste_bloque('{x}'),\n",
    "    variables = {'x':bloques})"
   ]
  },
  {
   "cell_type": "markdown",
   "metadata": {},
   "source": [
    "La representación como cadena de un esquema de acción muestra las acciones que se generarían a partir de él."
   ]
  },
  {
   "cell_type": "code",
   "execution_count": null,
   "metadata": {},
   "outputs": [],
   "source": [
    "print(agarrar)"
   ]
  },
  {
   "cell_type": "code",
   "execution_count": null,
   "metadata": {},
   "outputs": [],
   "source": [
    "print(apilar)"
   ]
  },
  {
   "cell_type": "markdown",
   "metadata": {},
   "source": [
    "Finalmente, para representar el problema de planificación se pasa la lista de esquemas de acción a la clase `ProblemaPlanificación` (en general, se pueden proporcionar tanto acciones como operadores, incluso mezclados). "
   ]
  },
  {
   "cell_type": "code",
   "execution_count": null,
   "metadata": {
    "collapsed": true
   },
   "outputs": [],
   "source": [
    "problema_mundo_bloques = probpl.ProblemaPlanificación(\n",
    "    operadores = [apilar,desapilar,agarrar,bajar],\n",
    "    estado_inicial = estado_inicial_bloques,\n",
    "    objetivosP = [sobrelamesa('C'),sobre('B','C'),sobre('A','B')])"
   ]
  },
  {
   "cell_type": "markdown",
   "metadata": {},
   "source": [
    "Una vez implementado el problema de planificación, para buscar un plan solución basta aplicar algún algoritmo de búsqueda en espacio de estados."
   ]
  },
  {
   "cell_type": "code",
   "execution_count": null,
   "metadata": {},
   "outputs": [],
   "source": [
    "búsqueda_profundidad.buscar(problema_mundo_bloques)"
   ]
  },
  {
   "cell_type": "markdown",
   "metadata": {},
   "source": [
    "# Problema de los buceadores"
   ]
  },
  {
   "cell_type": "markdown",
   "metadata": {},
   "source": [
    "En el marco de la _Conferencia Internacional sobre Planificación Automática y Planificación Temporal_ ([International Conference on Automated Planning and Scheduling, ICAPS](http://www.icaps-conference.org/)) se celebra, con periodicidad aproximadamente trienal, la _Competición Internacional de Planificación_ (http://www.icaps-conference.org/index.php/Main/Competitions).\n",
    "\n",
    "Esta competición tiene diferentes objetivos: realizar una comparación empírica del estado del arte de los sistemas de planificación; destacar desafíos para la comunidad de Planificación Automática; proponer nuevas direcciones para la investigación y nuevos vínculos con otros campos de la Inteligencia Artificial; y proporcionar nuevos conjuntos de datos que puedan ser utilizados por la comunidad científica como puntos de referencia."
   ]
  },
  {
   "cell_type": "markdown",
   "metadata": {},
   "source": [
    "Uno de los problemas incluidos en la competición es el _problema de los buceadores_, propuesto por Nathan Robinson,Christian Muise y Charles Gretton."
   ]
  },
  {
   "cell_type": "markdown",
   "metadata": {},
   "source": [
    "El problema consiste en lo siguiente: hay una serie de buceadores, cada uno de los cuales puede acarrear 4 tanques de aire. A estos buceadores hay que contratarlos para que entren en un sistema cavernoso inundado y, o bien tomen fotografías, o bien preparen el camino para otros buceadores dejando caer tanques llenos de aire. El lugar es demasiado estrecho para que pueda entrar más de un buceador a la vez. El sistema cavernoso está formado por una serie de cuevas, algunas de ellas interconectadas entre sí. La entrada es única. Ciertas cuevas son objetivos que los buceadores deben fotografiar. Tanto nadar de un lugar a otro, como fotografiar una cueva, consume un tanque entero de aire. Los buceadores deben realizar un proceso de descompresión al salir a superficie, por lo que cada uno de ellos solo puede realizar un único viaje. Ciertos buceadores desconfían de algunos de sus compañeros y rechazarán trabajar si alguno de ellos ha recorrido las cuevas previamente. Contratar un buceador tiene un coste diferente para cada uno de ellos."
   ]
  },
  {
   "cell_type": "markdown",
   "metadata": {},
   "source": [
    "Consideremos los siguientes conjuntos de símbolos de objetos (__que no tienen por qué ser los únicos que se usen en el problema__):"
   ]
  },
  {
   "cell_type": "code",
   "execution_count": null,
   "metadata": {
    "collapsed": true
   },
   "outputs": [],
   "source": [
    "cuevas = {'C{}'.format(i) for i in range(5)}\n",
    "buceadores = {'B{}'.format(i) for i in range(2)}\n",
    "cantidades = {str(i) for i in range(9)}"
   ]
  },
  {
   "cell_type": "code",
   "execution_count": null,
   "metadata": {},
   "outputs": [],
   "source": [
    "print(\"Cuevas: {}\".format(cuevas))\n",
    "print(\"Buceadores: {}\".format(buceadores))\n",
    "print(\"Cantidades: {}\".format(cantidades))"
   ]
  },
  {
   "cell_type": "markdown",
   "metadata": {},
   "source": [
    "y las siguientes relaciones de conexión entre las cuevas:"
   ]
  },
  {
   "cell_type": "code",
   "execution_count": null,
   "metadata": {
    "collapsed": true
   },
   "outputs": [],
   "source": [
    "conexiones = [('C0', 'C1'),\n",
    "              ('C1', 'C0'),\n",
    "              ('C1', 'C2'),\n",
    "              ('C1', 'C4'),\n",
    "              ('C2', 'C1'),\n",
    "              ('C2', 'C3'),\n",
    "              ('C3', 'C2'),\n",
    "              ('C4', 'C1')]"
   ]
  },
  {
   "cell_type": "markdown",
   "metadata": {},
   "source": [
    "__Ejercicio 1__: implementar los siguientes predicados:\n",
    "* `posición_buceador`: para cada buceador indica en qué cueva se encuentra, o si se encuentra en la superficie.\n",
    "* `disponible`: para cada buceador indica si está disponible para trabajar.\n",
    "* `trabajando`: para cada buceador indica si está contratado y trabajando.\n",
    "* `descompresión`: para cada buceador indica si está en el proceso de descompresión.\n",
    "* `tanques_llenos`: para cada buceador indica cuantos de sus 4 tanques están llenos de aire; para cada cueva indica cuantos tanques llenos de aire hay en dicha cueva, para que un buceador los pueda coger.\n",
    "* `con_foto_de`: para cada lugar de la cueva indica si se le ha realizado o no una fotografía."
   ]
  },
  {
   "cell_type": "code",
   "execution_count": null,
   "metadata": {
    "collapsed": true
   },
   "outputs": [],
   "source": []
  },
  {
   "cell_type": "markdown",
   "metadata": {},
   "source": [
    "__Ejercicio 2__: implementar las siguientes acciones:\n",
    "* `contratar(B0)`: contrata al buceador `B0`, que inmediatamente se dispone a trabajar; siempre y cuando esté disponible y no haya otro buceador contratado ahora mismo. El buceador `B1` rechazará ser contratado después de él. Contratar al buceador `B0` tiene coste 10.\n",
    "* `contratar(B1)`: contrata al buceador `B1`, que inmediatamente se dispone a trabajar; siempre y cuando esté disponible y no haya otro buceador contratado ahora mismo. Contratar al buceador `B1` tiene coste 67."
   ]
  },
  {
   "cell_type": "code",
   "execution_count": null,
   "metadata": {
    "collapsed": true
   },
   "outputs": [],
   "source": []
  },
  {
   "cell_type": "markdown",
   "metadata": {},
   "source": [
    "__Ejercicio 3__: implementar los siguientes operadores:\n",
    "* `entrar_al_agua`: un buceador contratado entra desde la superficie al sistema cavernoso, lleva sus cuatro tanques de aire llenos.\n",
    "* `bucear`: un buceador nada entre dos cuevas conectadas, gastando un tanque completo de aire.\n",
    "* `fotografiar`: un buceador fotografía una cueva, gastando un tanque completo de aire.\n",
    "* `soltar_tanque`: un buceador suelta un tanque lleno en una de las cuevas.\n",
    "* `cargar_tanque`: un buceador carga uno de sus tanques vacíos con uno lleno que se ha soltado previamente en una de las cuevas.\n",
    "* `salir_del_agua`: un buceador sale a superficie y pasa al proceso de descompresión."
   ]
  },
  {
   "cell_type": "code",
   "execution_count": null,
   "metadata": {
    "collapsed": true
   },
   "outputs": [],
   "source": []
  },
  {
   "cell_type": "markdown",
   "metadata": {},
   "source": [
    "__Ejercicio 4__: implementar la instancia del problema de tal manera que inicialmente los dos buceadores estén en la superficie, disponibles para ser contratados; no haya tanques llenos en las cuevas; y no se haya hecho todavía ninguna foto. El objetivo será fotografiar la cueva `C4` y que los dos buceadores estén en la superficie."
   ]
  },
  {
   "cell_type": "code",
   "execution_count": null,
   "metadata": {
    "collapsed": true
   },
   "outputs": [],
   "source": []
  },
  {
   "cell_type": "markdown",
   "metadata": {},
   "source": [
    "__Ejercicio 5__: Aplicar algún algoritmo de búsqueda en espacio de estados para encontrar un plan solución de la instancia del problema (**Nota**: una búsqueda no informada puede requerir un tiempo considerable). ¿Cuántas acciones tiene el plan resultante?. ¿Se puede alcanzar el mismo objetivo pero con una foto de la cueva `C3`?"
   ]
  },
  {
   "cell_type": "code",
   "execution_count": null,
   "metadata": {
    "collapsed": true
   },
   "outputs": [],
   "source": []
  }
 ],
 "metadata": {
  "kernelspec": {
   "display_name": "Python 3",
   "language": "python",
   "name": "python3"
  },
  "language_info": {
   "codemirror_mode": {
    "name": "ipython",
    "version": 3
   },
   "file_extension": ".py",
   "mimetype": "text/x-python",
   "name": "python",
   "nbconvert_exporter": "python",
   "pygments_lexer": "ipython3",
   "version": "3.6.4"
  }
 },
 "nbformat": 4,
 "nbformat_minor": 1
}
